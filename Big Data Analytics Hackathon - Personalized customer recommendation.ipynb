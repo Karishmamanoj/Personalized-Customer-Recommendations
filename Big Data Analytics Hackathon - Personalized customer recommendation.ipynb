{
 "cells": [
  {
   "cell_type": "code",
   "execution_count": 1,
   "id": "8a01a28b-d207-4e8a-bd14-fb921eb6610e",
   "metadata": {},
   "outputs": [],
   "source": [
    "import pandas as pd\n",
    "import numpy as np\n",
    "import seaborn as sns\n",
    "from matplotlib import pyplot as plt\n",
    "import warnings\n",
    "import os\n",
    "import importlib\n",
    "warnings.filterwarnings('ignore')\n",
    "sns.set_theme(color_codes=True)"
   ]
  },
  {
   "cell_type": "code",
   "execution_count": 2,
   "id": "4ebc0726-70e5-4449-8c3a-ac4050bfef41",
   "metadata": {},
   "outputs": [],
   "source": [
    "def check_and_install_library(library_name):\n",
    "    try:\n",
    "        importlib.import_module(library_name)\n",
    "        print(f\"{library_name} is already installed.\")\n",
    "    except ImportError:\n",
    "        print(f\"{library_name} is not installed. Installing...\")\n",
    "        try:\n",
    "            import pip\n",
    "            pip.main(['install', library_name])\n",
    "        except:\n",
    "            print(\"Error: Failed to install the library. Please install it manually.\")"
   ]
  },
  {
   "cell_type": "code",
   "execution_count": 3,
   "id": "f9f70f64-0093-40a4-ad34-cbf1f5e4a0b4",
   "metadata": {},
   "outputs": [
    {
     "name": "stdout",
     "output_type": "stream",
     "text": [
      "opendatasets is not installed. Installing...\n"
     ]
    },
    {
     "name": "stderr",
     "output_type": "stream",
     "text": [
      "WARNING: pip is being invoked by an old script wrapper. This will fail in a future version of pip.\n",
      "Please see https://github.com/pypa/pip/issues/5599 for advice on fixing the underlying issue.\n",
      "To avoid this problem you can invoke Python with '-m pip' instead of running pip directly.\n"
     ]
    },
    {
     "data": {
      "text/html": [
       "<pre style=\"white-space:pre;overflow-x:auto;line-height:normal;font-family:Menlo,'DejaVu Sans Mono',consolas,'Courier New',monospace\">Collecting opendatasets\n",
       "</pre>\n"
      ],
      "text/plain": [
       "Collecting opendatasets\n"
      ]
     },
     "metadata": {},
     "output_type": "display_data"
    },
    {
     "data": {
      "text/html": [
       "<pre style=\"white-space:pre;overflow-x:auto;line-height:normal;font-family:Menlo,'DejaVu Sans Mono',consolas,'Courier New',monospace\">  Downloading opendatasets-0.1.22-py3-none-any.whl.metadata (9.2 kB)\n",
       "</pre>\n"
      ],
      "text/plain": [
       "  Downloading opendatasets-0.1.22-py3-none-any.whl.metadata (9.2 kB)\n"
      ]
     },
     "metadata": {},
     "output_type": "display_data"
    },
    {
     "data": {
      "text/html": [
       "<pre style=\"white-space:pre;overflow-x:auto;line-height:normal;font-family:Menlo,'DejaVu Sans Mono',consolas,'Courier New',monospace\">Requirement already satisfied: tqdm in d:\\anacondanewver\\lib\\site-packages (from opendatasets) (4.66.4)\n",
       "</pre>\n"
      ],
      "text/plain": [
       "Requirement already satisfied: tqdm in d:\\anacondanewver\\lib\\site-packages (from opendatasets) (4.66.4)\n"
      ]
     },
     "metadata": {},
     "output_type": "display_data"
    },
    {
     "data": {
      "text/html": [
       "<pre style=\"white-space:pre;overflow-x:auto;line-height:normal;font-family:Menlo,'DejaVu Sans Mono',consolas,'Courier New',monospace\">Collecting kaggle (from opendatasets)\n",
       "</pre>\n"
      ],
      "text/plain": [
       "Collecting kaggle (from opendatasets)\n"
      ]
     },
     "metadata": {},
     "output_type": "display_data"
    },
    {
     "data": {
      "text/html": [
       "<pre style=\"white-space:pre;overflow-x:auto;line-height:normal;font-family:Menlo,'DejaVu Sans Mono',consolas,'Courier New',monospace\">  Downloading kaggle-1.6.17.tar.gz (82 kB)\n",
       "</pre>\n"
      ],
      "text/plain": [
       "  Downloading kaggle-1.6.17.tar.gz (82 kB)\n"
      ]
     },
     "metadata": {},
     "output_type": "display_data"
    },
    {
     "data": {
      "application/vnd.jupyter.widget-view+json": {
       "model_id": "64b38db5f6554a5ba815b740b45d72b5",
       "version_major": 2,
       "version_minor": 0
      },
      "text/plain": [
       "Output()"
      ]
     },
     "metadata": {},
     "output_type": "display_data"
    },
    {
     "data": {
      "text/html": [
       "<pre style=\"white-space:pre;overflow-x:auto;line-height:normal;font-family:Menlo,'DejaVu Sans Mono',consolas,'Courier New',monospace\"></pre>\n"
      ],
      "text/plain": []
     },
     "metadata": {},
     "output_type": "display_data"
    },
    {
     "data": {
      "text/html": [
       "<pre style=\"white-space:pre;overflow-x:auto;line-height:normal;font-family:Menlo,'DejaVu Sans Mono',consolas,'Courier New',monospace\">\n",
       "</pre>\n"
      ],
      "text/plain": [
       "\n"
      ]
     },
     "metadata": {},
     "output_type": "display_data"
    },
    {
     "data": {
      "text/html": [
       "<pre style=\"white-space:pre;overflow-x:auto;line-height:normal;font-family:Menlo,'DejaVu Sans Mono',consolas,'Courier New',monospace\">  Preparing metadata (setup.py): started\n",
       "</pre>\n"
      ],
      "text/plain": [
       "  Preparing metadata (setup.py): started\n"
      ]
     },
     "metadata": {},
     "output_type": "display_data"
    },
    {
     "data": {
      "text/html": [
       "<pre style=\"white-space:pre;overflow-x:auto;line-height:normal;font-family:Menlo,'DejaVu Sans Mono',consolas,'Courier New',monospace\">  Preparing metadata (setup.py): finished with status 'done'\n",
       "</pre>\n"
      ],
      "text/plain": [
       "  Preparing metadata (setup.py): finished with status 'done'\n"
      ]
     },
     "metadata": {},
     "output_type": "display_data"
    },
    {
     "data": {
      "text/html": [
       "<pre style=\"white-space:pre;overflow-x:auto;line-height:normal;font-family:Menlo,'DejaVu Sans Mono',consolas,'Courier New',monospace\">Requirement already satisfied: click in d:\\anacondanewver\\lib\\site-packages (from opendatasets) (8.1.7)\n",
       "</pre>\n"
      ],
      "text/plain": [
       "Requirement already satisfied: click in d:\\anacondanewver\\lib\\site-packages (from opendatasets) (8.1.7)\n"
      ]
     },
     "metadata": {},
     "output_type": "display_data"
    },
    {
     "data": {
      "text/html": [
       "<pre style=\"white-space:pre;overflow-x:auto;line-height:normal;font-family:Menlo,'DejaVu Sans Mono',consolas,'Courier New',monospace\">Requirement already satisfied: colorama in d:\\anacondanewver\\lib\\site-packages (from click-&gt;opendatasets) (0.4.6)\n",
       "</pre>\n"
      ],
      "text/plain": [
       "Requirement already satisfied: colorama in d:\\anacondanewver\\lib\\site-packages (from click->opendatasets) (0.4.6)\n"
      ]
     },
     "metadata": {},
     "output_type": "display_data"
    },
    {
     "data": {
      "text/html": [
       "<pre style=\"white-space:pre;overflow-x:auto;line-height:normal;font-family:Menlo,'DejaVu Sans Mono',consolas,'Courier New',monospace\">Requirement already satisfied: six&gt;=1.10 in d:\\anacondanewver\\lib\\site-packages (from kaggle-&gt;opendatasets) (1.16.0)\n",
       "</pre>\n"
      ],
      "text/plain": [
       "Requirement already satisfied: six>=1.10 in d:\\anacondanewver\\lib\\site-packages (from kaggle->opendatasets) (1.16.0)\n"
      ]
     },
     "metadata": {},
     "output_type": "display_data"
    },
    {
     "data": {
      "text/html": [
       "<pre style=\"white-space:pre;overflow-x:auto;line-height:normal;font-family:Menlo,'DejaVu Sans Mono',consolas,'Courier New',monospace\">Requirement already satisfied: certifi&gt;=2023.7.22 in d:\\anacondanewver\\lib\\site-packages (from kaggle-&gt;opendatasets) (2024.6.2)\n",
       "</pre>\n"
      ],
      "text/plain": [
       "Requirement already satisfied: certifi>=2023.7.22 in d:\\anacondanewver\\lib\\site-packages (from kaggle->opendatasets) (2024.6.2)\n"
      ]
     },
     "metadata": {},
     "output_type": "display_data"
    },
    {
     "data": {
      "text/html": [
       "<pre style=\"white-space:pre;overflow-x:auto;line-height:normal;font-family:Menlo,'DejaVu Sans Mono',consolas,'Courier New',monospace\">Requirement already satisfied: python-dateutil in d:\\anacondanewver\\lib\\site-packages (from kaggle-&gt;opendatasets) (2.9.0.post0)\n",
       "</pre>\n"
      ],
      "text/plain": [
       "Requirement already satisfied: python-dateutil in d:\\anacondanewver\\lib\\site-packages (from kaggle->opendatasets) (2.9.0.post0)\n"
      ]
     },
     "metadata": {},
     "output_type": "display_data"
    },
    {
     "data": {
      "text/html": [
       "<pre style=\"white-space:pre;overflow-x:auto;line-height:normal;font-family:Menlo,'DejaVu Sans Mono',consolas,'Courier New',monospace\">Requirement already satisfied: requests in d:\\anacondanewver\\lib\\site-packages (from kaggle-&gt;opendatasets) (2.32.2)\n",
       "</pre>\n"
      ],
      "text/plain": [
       "Requirement already satisfied: requests in d:\\anacondanewver\\lib\\site-packages (from kaggle->opendatasets) (2.32.2)\n"
      ]
     },
     "metadata": {},
     "output_type": "display_data"
    },
    {
     "data": {
      "text/html": [
       "<pre style=\"white-space:pre;overflow-x:auto;line-height:normal;font-family:Menlo,'DejaVu Sans Mono',consolas,'Courier New',monospace\">Requirement already satisfied: python-slugify in d:\\anacondanewver\\lib\\site-packages (from kaggle-&gt;opendatasets) (5.0.2)\n",
       "</pre>\n"
      ],
      "text/plain": [
       "Requirement already satisfied: python-slugify in d:\\anacondanewver\\lib\\site-packages (from kaggle->opendatasets) (5.0.2)\n"
      ]
     },
     "metadata": {},
     "output_type": "display_data"
    },
    {
     "data": {
      "text/html": [
       "<pre style=\"white-space:pre;overflow-x:auto;line-height:normal;font-family:Menlo,'DejaVu Sans Mono',consolas,'Courier New',monospace\">Requirement already satisfied: urllib3 in d:\\anacondanewver\\lib\\site-packages (from kaggle-&gt;opendatasets) (2.2.2)\n",
       "</pre>\n"
      ],
      "text/plain": [
       "Requirement already satisfied: urllib3 in d:\\anacondanewver\\lib\\site-packages (from kaggle->opendatasets) (2.2.2)\n"
      ]
     },
     "metadata": {},
     "output_type": "display_data"
    },
    {
     "data": {
      "text/html": [
       "<pre style=\"white-space:pre;overflow-x:auto;line-height:normal;font-family:Menlo,'DejaVu Sans Mono',consolas,'Courier New',monospace\">Requirement already satisfied: bleach in d:\\anacondanewver\\lib\\site-packages (from kaggle-&gt;opendatasets) (4.1.0)\n",
       "</pre>\n"
      ],
      "text/plain": [
       "Requirement already satisfied: bleach in d:\\anacondanewver\\lib\\site-packages (from kaggle->opendatasets) (4.1.0)\n"
      ]
     },
     "metadata": {},
     "output_type": "display_data"
    },
    {
     "data": {
      "text/html": [
       "<pre style=\"white-space:pre;overflow-x:auto;line-height:normal;font-family:Menlo,'DejaVu Sans Mono',consolas,'Courier New',monospace\">Requirement already satisfied: packaging in d:\\anacondanewver\\lib\\site-packages (from bleach-&gt;kaggle-&gt;opendatasets) (23.2)\n",
       "</pre>\n"
      ],
      "text/plain": [
       "Requirement already satisfied: packaging in d:\\anacondanewver\\lib\\site-packages (from bleach->kaggle->opendatasets) (23.2)\n"
      ]
     },
     "metadata": {},
     "output_type": "display_data"
    },
    {
     "data": {
      "text/html": [
       "<pre style=\"white-space:pre;overflow-x:auto;line-height:normal;font-family:Menlo,'DejaVu Sans Mono',consolas,'Courier New',monospace\">Requirement already satisfied: webencodings in d:\\anacondanewver\\lib\\site-packages (from bleach-&gt;kaggle-&gt;opendatasets) (0.5.1)\n",
       "</pre>\n"
      ],
      "text/plain": [
       "Requirement already satisfied: webencodings in d:\\anacondanewver\\lib\\site-packages (from bleach->kaggle->opendatasets) (0.5.1)\n"
      ]
     },
     "metadata": {},
     "output_type": "display_data"
    },
    {
     "data": {
      "text/html": [
       "<pre style=\"white-space:pre;overflow-x:auto;line-height:normal;font-family:Menlo,'DejaVu Sans Mono',consolas,'Courier New',monospace\">Requirement already satisfied: text-unidecode&gt;=1.3 in d:\\anacondanewver\\lib\\site-packages (from python-slugify-&gt;kaggle-&gt;opendatasets) (1.3)\n",
       "</pre>\n"
      ],
      "text/plain": [
       "Requirement already satisfied: text-unidecode>=1.3 in d:\\anacondanewver\\lib\\site-packages (from python-slugify->kaggle->opendatasets) (1.3)\n"
      ]
     },
     "metadata": {},
     "output_type": "display_data"
    },
    {
     "data": {
      "text/html": [
       "<pre style=\"white-space:pre;overflow-x:auto;line-height:normal;font-family:Menlo,'DejaVu Sans Mono',consolas,'Courier New',monospace\">Requirement already satisfied: charset-normalizer&lt;4,&gt;=2 in d:\\anacondanewver\\lib\\site-packages (from requests-&gt;kaggle-&gt;opendatasets) (2.0.4)\n",
       "</pre>\n"
      ],
      "text/plain": [
       "Requirement already satisfied: charset-normalizer<4,>=2 in d:\\anacondanewver\\lib\\site-packages (from requests->kaggle->opendatasets) (2.0.4)\n"
      ]
     },
     "metadata": {},
     "output_type": "display_data"
    },
    {
     "data": {
      "text/html": [
       "<pre style=\"white-space:pre;overflow-x:auto;line-height:normal;font-family:Menlo,'DejaVu Sans Mono',consolas,'Courier New',monospace\">Requirement already satisfied: idna&lt;4,&gt;=2.5 in d:\\anacondanewver\\lib\\site-packages (from requests-&gt;kaggle-&gt;opendatasets) (3.7)\n",
       "</pre>\n"
      ],
      "text/plain": [
       "Requirement already satisfied: idna<4,>=2.5 in d:\\anacondanewver\\lib\\site-packages (from requests->kaggle->opendatasets) (3.7)\n"
      ]
     },
     "metadata": {},
     "output_type": "display_data"
    },
    {
     "data": {
      "text/html": [
       "<pre style=\"white-space:pre;overflow-x:auto;line-height:normal;font-family:Menlo,'DejaVu Sans Mono',consolas,'Courier New',monospace\">Downloading opendatasets-0.1.22-py3-none-any.whl (15 kB)\n",
       "</pre>\n"
      ],
      "text/plain": [
       "Downloading opendatasets-0.1.22-py3-none-any.whl (15 kB)\n"
      ]
     },
     "metadata": {},
     "output_type": "display_data"
    },
    {
     "data": {
      "text/html": [
       "<pre style=\"white-space:pre;overflow-x:auto;line-height:normal;font-family:Menlo,'DejaVu Sans Mono',consolas,'Courier New',monospace\">Building wheels for collected packages: kaggle\n",
       "</pre>\n"
      ],
      "text/plain": [
       "Building wheels for collected packages: kaggle\n"
      ]
     },
     "metadata": {},
     "output_type": "display_data"
    },
    {
     "data": {
      "text/html": [
       "<pre style=\"white-space:pre;overflow-x:auto;line-height:normal;font-family:Menlo,'DejaVu Sans Mono',consolas,'Courier New',monospace\">  Building wheel for kaggle (setup.py): started\n",
       "</pre>\n"
      ],
      "text/plain": [
       "  Building wheel for kaggle (setup.py): started\n"
      ]
     },
     "metadata": {},
     "output_type": "display_data"
    },
    {
     "data": {
      "text/html": [
       "<pre style=\"white-space:pre;overflow-x:auto;line-height:normal;font-family:Menlo,'DejaVu Sans Mono',consolas,'Courier New',monospace\">  Building wheel for kaggle (setup.py): finished with status 'done'\n",
       "</pre>\n"
      ],
      "text/plain": [
       "  Building wheel for kaggle (setup.py): finished with status 'done'\n"
      ]
     },
     "metadata": {},
     "output_type": "display_data"
    },
    {
     "data": {
      "text/html": [
       "<pre style=\"white-space:pre;overflow-x:auto;line-height:normal;font-family:Menlo,'DejaVu Sans Mono',consolas,'Courier New',monospace\">  Created wheel for kaggle: filename=kaggle-1.6.17-py3-none-any.whl size=105795 sha256=a3bd55b7849d6280c5c8f9d370f18a9aa3b4e743c61d525beb56144dc698f942\n",
       "</pre>\n"
      ],
      "text/plain": [
       "  Created wheel for kaggle: filename=kaggle-1.6.17-py3-none-any.whl size=105795 sha256=a3bd55b7849d6280c5c8f9d370f18a9aa3b4e743c61d525beb56144dc698f942\n"
      ]
     },
     "metadata": {},
     "output_type": "display_data"
    },
    {
     "data": {
      "text/html": [
       "<pre style=\"white-space:pre;overflow-x:auto;line-height:normal;font-family:Menlo,'DejaVu Sans Mono',consolas,'Courier New',monospace\">  Stored in directory: c:\\users\\karishma\\appdata\\local\\pip\\cache\\wheels\\46\\d2\\26\\84d0a1acdb9c6baccf7d28cf06962ec80529fe1ad938489983\n",
       "</pre>\n"
      ],
      "text/plain": [
       "  Stored in directory: c:\\users\\karishma\\appdata\\local\\pip\\cache\\wheels\\46\\d2\\26\\84d0a1acdb9c6baccf7d28cf06962ec80529fe1ad938489983\n"
      ]
     },
     "metadata": {},
     "output_type": "display_data"
    },
    {
     "data": {
      "text/html": [
       "<pre style=\"white-space:pre;overflow-x:auto;line-height:normal;font-family:Menlo,'DejaVu Sans Mono',consolas,'Courier New',monospace\">Successfully built kaggle\n",
       "</pre>\n"
      ],
      "text/plain": [
       "Successfully built kaggle\n"
      ]
     },
     "metadata": {},
     "output_type": "display_data"
    },
    {
     "data": {
      "text/html": [
       "<pre style=\"white-space:pre;overflow-x:auto;line-height:normal;font-family:Menlo,'DejaVu Sans Mono',consolas,'Courier New',monospace\">Installing collected packages: kaggle, opendatasets\n",
       "</pre>\n"
      ],
      "text/plain": [
       "Installing collected packages: kaggle, opendatasets\n"
      ]
     },
     "metadata": {},
     "output_type": "display_data"
    },
    {
     "data": {
      "text/html": [
       "<pre style=\"white-space:pre;overflow-x:auto;line-height:normal;font-family:Menlo,'DejaVu Sans Mono',consolas,'Courier New',monospace\">Successfully installed kaggle-1.6.17 opendatasets-0.1.22\n",
       "</pre>\n"
      ],
      "text/plain": [
       "Successfully installed kaggle-1.6.17 opendatasets-0.1.22\n"
      ]
     },
     "metadata": {},
     "output_type": "display_data"
    },
    {
     "name": "stdout",
     "output_type": "stream",
     "text": [
      "Please provide your Kaggle credentials to download this dataset. Learn more: http://bit.ly/kaggle-creds\n",
      "Your Kaggle username:"
     ]
    },
    {
     "name": "stdin",
     "output_type": "stream",
     "text": [
      "  karishmaamanoj\n"
     ]
    },
    {
     "name": "stdout",
     "output_type": "stream",
     "text": [
      "Your Kaggle Key:"
     ]
    },
    {
     "name": "stdin",
     "output_type": "stream",
     "text": [
      "  ········\n"
     ]
    },
    {
     "name": "stdout",
     "output_type": "stream",
     "text": [
      "Dataset URL: https://www.kaggle.com/datasets/irvifa/amazon-product-reviews\n",
      "Downloading amazon-product-reviews.zip to .\\amazon-product-reviews\n"
     ]
    },
    {
     "name": "stderr",
     "output_type": "stream",
     "text": [
      "100%|██████████| 109M/109M [00:41<00:00, 2.77MB/s] \n"
     ]
    },
    {
     "name": "stdout",
     "output_type": "stream",
     "text": [
      "\n"
     ]
    }
   ],
   "source": [
    "if 'amazon-product-reviews' not in os.listdir():\n",
    "  check_and_install_library('opendatasets')\n",
    "  import opendatasets as od\n",
    "  od.download('https://www.kaggle.com/datasets/irvifa/amazon-product-reviews')"
   ]
  },
  {
   "cell_type": "code",
   "execution_count": 4,
   "id": "adb91698-1578-44c2-b799-f200c543e102",
   "metadata": {},
   "outputs": [],
   "source": [
    "df=pd.read_csv('amazon-product-reviews/ratings_Electronics.csv',names=['userId', 'productId','rating','timestamp'])"
   ]
  },
  {
   "cell_type": "code",
   "execution_count": 5,
   "id": "522107d4-c723-4143-aaf1-ca661aacaf83",
   "metadata": {},
   "outputs": [
    {
     "data": {
      "text/plain": [
       "(7824482, 4)"
      ]
     },
     "execution_count": 5,
     "metadata": {},
     "output_type": "execute_result"
    }
   ],
   "source": [
    "df.shape"
   ]
  },
  {
   "cell_type": "code",
   "execution_count": 6,
   "id": "70a3aeb8-89cb-4ced-9cb4-2632a83295fe",
   "metadata": {},
   "outputs": [
    {
     "data": {
      "text/plain": [
       "Index(['userId', 'productId', 'rating', 'timestamp'], dtype='object')"
      ]
     },
     "execution_count": 6,
     "metadata": {},
     "output_type": "execute_result"
    }
   ],
   "source": [
    "df.columns"
   ]
  },
  {
   "cell_type": "code",
   "execution_count": 7,
   "id": "ddd717b5-85a3-4a20-870f-a073e613374f",
   "metadata": {},
   "outputs": [],
   "source": [
    "electronics_data=df.sample(n=1564896,ignore_index=True)"
   ]
  },
  {
   "cell_type": "code",
   "execution_count": 8,
   "id": "6f815f5a-8568-47d1-a477-5e182f9966f0",
   "metadata": {},
   "outputs": [],
   "source": [
    "del df"
   ]
  },
  {
   "cell_type": "code",
   "execution_count": 9,
   "id": "81c2ba1d-1e5f-40ac-9c0c-a478ab8f3aed",
   "metadata": {},
   "outputs": [
    {
     "data": {
      "text/html": [
       "<div>\n",
       "<style scoped>\n",
       "    .dataframe tbody tr th:only-of-type {\n",
       "        vertical-align: middle;\n",
       "    }\n",
       "\n",
       "    .dataframe tbody tr th {\n",
       "        vertical-align: top;\n",
       "    }\n",
       "\n",
       "    .dataframe thead th {\n",
       "        text-align: right;\n",
       "    }\n",
       "</style>\n",
       "<table border=\"1\" class=\"dataframe\">\n",
       "  <thead>\n",
       "    <tr style=\"text-align: right;\">\n",
       "      <th></th>\n",
       "      <th>userId</th>\n",
       "      <th>productId</th>\n",
       "      <th>rating</th>\n",
       "      <th>timestamp</th>\n",
       "    </tr>\n",
       "  </thead>\n",
       "  <tbody>\n",
       "    <tr>\n",
       "      <th>0</th>\n",
       "      <td>A2IW4QOGCKALM6</td>\n",
       "      <td>B000RZQZM0</td>\n",
       "      <td>5.0</td>\n",
       "      <td>1273622400</td>\n",
       "    </tr>\n",
       "    <tr>\n",
       "      <th>1</th>\n",
       "      <td>A28OBPLHOOMTI1</td>\n",
       "      <td>B00EDU4G0I</td>\n",
       "      <td>5.0</td>\n",
       "      <td>1393804800</td>\n",
       "    </tr>\n",
       "    <tr>\n",
       "      <th>2</th>\n",
       "      <td>AXF0OXVFU6HD3</td>\n",
       "      <td>B00CRFK24K</td>\n",
       "      <td>5.0</td>\n",
       "      <td>1392076800</td>\n",
       "    </tr>\n",
       "    <tr>\n",
       "      <th>3</th>\n",
       "      <td>A11IJ44H6VU1RH</td>\n",
       "      <td>B00006HMPN</td>\n",
       "      <td>5.0</td>\n",
       "      <td>1061078400</td>\n",
       "    </tr>\n",
       "    <tr>\n",
       "      <th>4</th>\n",
       "      <td>A31EXXZNKX5H9J</td>\n",
       "      <td>B00B2HVASG</td>\n",
       "      <td>3.0</td>\n",
       "      <td>1390176000</td>\n",
       "    </tr>\n",
       "  </tbody>\n",
       "</table>\n",
       "</div>"
      ],
      "text/plain": [
       "           userId   productId  rating   timestamp\n",
       "0  A2IW4QOGCKALM6  B000RZQZM0     5.0  1273622400\n",
       "1  A28OBPLHOOMTI1  B00EDU4G0I     5.0  1393804800\n",
       "2   AXF0OXVFU6HD3  B00CRFK24K     5.0  1392076800\n",
       "3  A11IJ44H6VU1RH  B00006HMPN     5.0  1061078400\n",
       "4  A31EXXZNKX5H9J  B00B2HVASG     3.0  1390176000"
      ]
     },
     "execution_count": 9,
     "metadata": {},
     "output_type": "execute_result"
    }
   ],
   "source": [
    "#print top 5 records of the dataset\n",
    "electronics_data.head()"
   ]
  },
  {
   "cell_type": "code",
   "execution_count": 10,
   "id": "c5ea8d85-f800-4699-9c3a-2a8f2fa05f79",
   "metadata": {},
   "outputs": [
    {
     "name": "stdout",
     "output_type": "stream",
     "text": [
      "<class 'pandas.core.frame.DataFrame'>\n",
      "RangeIndex: 1564896 entries, 0 to 1564895\n",
      "Data columns (total 4 columns):\n",
      " #   Column     Non-Null Count    Dtype  \n",
      "---  ------     --------------    -----  \n",
      " 0   userId     1564896 non-null  object \n",
      " 1   productId  1564896 non-null  object \n",
      " 2   rating     1564896 non-null  float64\n",
      " 3   timestamp  1564896 non-null  int64  \n",
      "dtypes: float64(1), int64(1), object(2)\n",
      "memory usage: 47.8+ MB\n"
     ]
    }
   ],
   "source": [
    "#print the concise information of the dataset\n",
    "electronics_data.info()"
   ]
  },
  {
   "cell_type": "code",
   "execution_count": 11,
   "id": "80f530c0-1c5d-4ed3-816a-eb8ed8c6a478",
   "metadata": {},
   "outputs": [],
   "source": [
    "#drop timestamp column\n",
    "electronics_data.drop('timestamp',axis=1,inplace=True)"
   ]
  },
  {
   "cell_type": "code",
   "execution_count": 12,
   "id": "96832ee9-c9db-4c72-832d-df662df74748",
   "metadata": {},
   "outputs": [
    {
     "data": {
      "text/html": [
       "<div>\n",
       "<style scoped>\n",
       "    .dataframe tbody tr th:only-of-type {\n",
       "        vertical-align: middle;\n",
       "    }\n",
       "\n",
       "    .dataframe tbody tr th {\n",
       "        vertical-align: top;\n",
       "    }\n",
       "\n",
       "    .dataframe thead th {\n",
       "        text-align: right;\n",
       "    }\n",
       "</style>\n",
       "<table border=\"1\" class=\"dataframe\">\n",
       "  <thead>\n",
       "    <tr style=\"text-align: right;\">\n",
       "      <th></th>\n",
       "      <th>rating</th>\n",
       "    </tr>\n",
       "  </thead>\n",
       "  <tbody>\n",
       "    <tr>\n",
       "      <th>count</th>\n",
       "      <td>1.564896e+06</td>\n",
       "    </tr>\n",
       "    <tr>\n",
       "      <th>mean</th>\n",
       "      <td>4.012847e+00</td>\n",
       "    </tr>\n",
       "    <tr>\n",
       "      <th>std</th>\n",
       "      <td>1.380216e+00</td>\n",
       "    </tr>\n",
       "    <tr>\n",
       "      <th>min</th>\n",
       "      <td>1.000000e+00</td>\n",
       "    </tr>\n",
       "    <tr>\n",
       "      <th>25%</th>\n",
       "      <td>3.000000e+00</td>\n",
       "    </tr>\n",
       "    <tr>\n",
       "      <th>50%</th>\n",
       "      <td>5.000000e+00</td>\n",
       "    </tr>\n",
       "    <tr>\n",
       "      <th>75%</th>\n",
       "      <td>5.000000e+00</td>\n",
       "    </tr>\n",
       "    <tr>\n",
       "      <th>max</th>\n",
       "      <td>5.000000e+00</td>\n",
       "    </tr>\n",
       "  </tbody>\n",
       "</table>\n",
       "</div>"
      ],
      "text/plain": [
       "             rating\n",
       "count  1.564896e+06\n",
       "mean   4.012847e+00\n",
       "std    1.380216e+00\n",
       "min    1.000000e+00\n",
       "25%    3.000000e+00\n",
       "50%    5.000000e+00\n",
       "75%    5.000000e+00\n",
       "max    5.000000e+00"
      ]
     },
     "execution_count": 12,
     "metadata": {},
     "output_type": "execute_result"
    }
   ],
   "source": [
    "electronics_data.describe()"
   ]
  },
  {
   "cell_type": "code",
   "execution_count": 13,
   "id": "4258c97a-721d-40ac-b41b-e12c71e814fc",
   "metadata": {},
   "outputs": [
    {
     "data": {
      "text/plain": [
       "userId       0\n",
       "productId    0\n",
       "rating       0\n",
       "dtype: int64"
      ]
     },
     "execution_count": 13,
     "metadata": {},
     "output_type": "execute_result"
    }
   ],
   "source": [
    "#handle missing values\n",
    "electronics_data.isnull().sum()"
   ]
  },
  {
   "cell_type": "code",
   "execution_count": 14,
   "id": "d12120f7-ee84-4f7d-8d43-7f5897d43e52",
   "metadata": {},
   "outputs": [
    {
     "data": {
      "text/plain": [
       "0"
      ]
     },
     "execution_count": 14,
     "metadata": {},
     "output_type": "execute_result"
    }
   ],
   "source": [
    "#handling duplicate records\n",
    "electronics_data[electronics_data.duplicated()].shape[0]"
   ]
  },
  {
   "cell_type": "code",
   "execution_count": 15,
   "id": "bb54fdef-1401-4e4a-9f93-33c3ae2c81e2",
   "metadata": {},
   "outputs": [
    {
     "data": {
      "text/html": [
       "<div>\n",
       "<style scoped>\n",
       "    .dataframe tbody tr th:only-of-type {\n",
       "        vertical-align: middle;\n",
       "    }\n",
       "\n",
       "    .dataframe tbody tr th {\n",
       "        vertical-align: top;\n",
       "    }\n",
       "\n",
       "    .dataframe thead th {\n",
       "        text-align: right;\n",
       "    }\n",
       "</style>\n",
       "<table border=\"1\" class=\"dataframe\">\n",
       "  <thead>\n",
       "    <tr style=\"text-align: right;\">\n",
       "      <th></th>\n",
       "      <th>userId</th>\n",
       "      <th>productId</th>\n",
       "      <th>rating</th>\n",
       "    </tr>\n",
       "  </thead>\n",
       "  <tbody>\n",
       "    <tr>\n",
       "      <th>0</th>\n",
       "      <td>A2IW4QOGCKALM6</td>\n",
       "      <td>B000RZQZM0</td>\n",
       "      <td>5.0</td>\n",
       "    </tr>\n",
       "    <tr>\n",
       "      <th>1</th>\n",
       "      <td>A28OBPLHOOMTI1</td>\n",
       "      <td>B00EDU4G0I</td>\n",
       "      <td>5.0</td>\n",
       "    </tr>\n",
       "    <tr>\n",
       "      <th>2</th>\n",
       "      <td>AXF0OXVFU6HD3</td>\n",
       "      <td>B00CRFK24K</td>\n",
       "      <td>5.0</td>\n",
       "    </tr>\n",
       "    <tr>\n",
       "      <th>3</th>\n",
       "      <td>A11IJ44H6VU1RH</td>\n",
       "      <td>B00006HMPN</td>\n",
       "      <td>5.0</td>\n",
       "    </tr>\n",
       "    <tr>\n",
       "      <th>4</th>\n",
       "      <td>A31EXXZNKX5H9J</td>\n",
       "      <td>B00B2HVASG</td>\n",
       "      <td>3.0</td>\n",
       "    </tr>\n",
       "  </tbody>\n",
       "</table>\n",
       "</div>"
      ],
      "text/plain": [
       "           userId   productId  rating\n",
       "0  A2IW4QOGCKALM6  B000RZQZM0     5.0\n",
       "1  A28OBPLHOOMTI1  B00EDU4G0I     5.0\n",
       "2   AXF0OXVFU6HD3  B00CRFK24K     5.0\n",
       "3  A11IJ44H6VU1RH  B00006HMPN     5.0\n",
       "4  A31EXXZNKX5H9J  B00B2HVASG     3.0"
      ]
     },
     "execution_count": 15,
     "metadata": {},
     "output_type": "execute_result"
    }
   ],
   "source": [
    "electronics_data.head()"
   ]
  },
  {
   "cell_type": "code",
   "execution_count": 16,
   "id": "c7ca0d4b-d80a-4e63-9ac2-d4490fb9ae32",
   "metadata": {
    "scrolled": true
   },
   "outputs": [
    {
     "data": {
      "text/html": [
       "<pre style=\"white-space:pre;overflow-x:auto;line-height:normal;font-family:Menlo,'DejaVu Sans Mono',consolas,'Courier New',monospace\">Using categorical units to plot a list of strings that are all parsable as floats or dates. If these strings should be plotted as numbers, cast to the appropriate data type before plotting.\n",
       "</pre>\n"
      ],
      "text/plain": [
       "Using categorical units to plot a list of strings that are all parsable as floats or dates. If these strings should be plotted as numbers, cast to the appropriate data type before plotting.\n"
      ]
     },
     "metadata": {},
     "output_type": "display_data"
    },
    {
     "data": {
      "text/html": [
       "<pre style=\"white-space:pre;overflow-x:auto;line-height:normal;font-family:Menlo,'DejaVu Sans Mono',consolas,'Courier New',monospace\">Using categorical units to plot a list of strings that are all parsable as floats or dates. If these strings should be plotted as numbers, cast to the appropriate data type before plotting.\n",
       "</pre>\n"
      ],
      "text/plain": [
       "Using categorical units to plot a list of strings that are all parsable as floats or dates. If these strings should be plotted as numbers, cast to the appropriate data type before plotting.\n"
      ]
     },
     "metadata": {},
     "output_type": "display_data"
    },
    {
     "data": {
      "image/png": "[encoded data removed]",
      "text/plain": [
       "<Figure size 800x400 with 1 Axes>"
      ]
     },
     "metadata": {},
     "output_type": "display_data"
    }
   ],
   "source": [
    "plt.figure(figsize=(8,4))\n",
    "sns.countplot(x='rating',data=electronics_data)\n",
    "plt.title('Rating Distribution')\n",
    "plt.xlabel('Rating')\n",
    "plt.ylabel('Count')\n",
    "plt.grid()\n",
    "plt.show()"
   ]
  },
  {
   "cell_type": "code",
   "execution_count": 17,
   "id": "f7dc174a-d5bc-4e29-bb0b-09c04f8f2f0a",
   "metadata": {},
   "outputs": [
    {
     "name": "stdout",
     "output_type": "stream",
     "text": [
      "Total rating :  1564896\n",
      "Total unique users :  1225738\n",
      "Total unique products :  237551\n"
     ]
    }
   ],
   "source": [
    "print('Total rating : ',electronics_data.shape[0])\n",
    "print('Total unique users : ',electronics_data['userId'].unique().shape[0])\n",
    "print('Total unique products : ',electronics_data['productId'].unique().shape[0])"
   ]
  },
  {
   "cell_type": "code",
   "execution_count": 18,
   "id": "47759964-fe60-4ff8-ba2e-d6b5ed13857e",
   "metadata": {},
   "outputs": [
    {
     "data": {
      "text/plain": [
       "userId\n",
       "ADLVFFE4VBT8      105\n",
       "A5JLAU2ARJ0BO     105\n",
       "A3OXHLG6DIBRW8     99\n",
       "A6FIAB28IS79       87\n",
       "A680RUE1FDO8B      84\n",
       "Name: rating, dtype: int64"
      ]
     },
     "execution_count": 18,
     "metadata": {},
     "output_type": "execute_result"
    }
   ],
   "source": [
    "no_of_rated_products_per_user = electronics_data.groupby(by='userId')['rating'].count().sort_values(ascending=False)\n",
    "no_of_rated_products_per_user.head()"
   ]
  },
  {
   "cell_type": "code",
   "execution_count": 19,
   "id": "ea36720e-859d-4532-8f2f-6edd35348a12",
   "metadata": {},
   "outputs": [
    {
     "name": "stdout",
     "output_type": "stream",
     "text": [
      "No of rated product more than 50 per user : 27 \n"
     ]
    }
   ],
   "source": [
    "print('No of rated product more than 50 per user : {} '.format(sum(no_of_rated_products_per_user >= 50)))"
   ]
  },
  {
   "cell_type": "markdown",
   "id": "af526eca-0f7b-4dcb-9b38-eb94cbb08f29",
   "metadata": {},
   "source": [
    "Popularity Based Recommendation\r\n",
    "\r\n",
    "Popularity based recommendation system works with the trend. It basically uses the items which are in trend right now. For example, if any product which is usually bought by every new user then there are chances that it may suggest that item to the user who just signed up.\r\n",
    "\r\n",
    "The problems with popularity based recommendation system is that the personalization is not available with this method i.e. even though you know the behaviour of the user but you cannot recommend items accordingly."
   ]
  },
  {
   "cell_type": "code",
   "execution_count": 20,
   "id": "4071ed0b-b8f9-4f0f-8bb7-1d82b5f856b0",
   "metadata": {},
   "outputs": [],
   "source": [
    "data=electronics_data.groupby('productId').filter(lambda x:x['rating'].count()>=50)"
   ]
  },
  {
   "cell_type": "code",
   "execution_count": 21,
   "id": "855a2a3b-f996-4dbd-8c54-251494c3f3e7",
   "metadata": {},
   "outputs": [
    {
     "data": {
      "text/html": [
       "<div>\n",
       "<style scoped>\n",
       "    .dataframe tbody tr th:only-of-type {\n",
       "        vertical-align: middle;\n",
       "    }\n",
       "\n",
       "    .dataframe tbody tr th {\n",
       "        vertical-align: top;\n",
       "    }\n",
       "\n",
       "    .dataframe thead th {\n",
       "        text-align: right;\n",
       "    }\n",
       "</style>\n",
       "<table border=\"1\" class=\"dataframe\">\n",
       "  <thead>\n",
       "    <tr style=\"text-align: right;\">\n",
       "      <th></th>\n",
       "      <th>userId</th>\n",
       "      <th>productId</th>\n",
       "      <th>rating</th>\n",
       "    </tr>\n",
       "  </thead>\n",
       "  <tbody>\n",
       "    <tr>\n",
       "      <th>0</th>\n",
       "      <td>A2IW4QOGCKALM6</td>\n",
       "      <td>B000RZQZM0</td>\n",
       "      <td>5.0</td>\n",
       "    </tr>\n",
       "    <tr>\n",
       "      <th>2</th>\n",
       "      <td>AXF0OXVFU6HD3</td>\n",
       "      <td>B00CRFK24K</td>\n",
       "      <td>5.0</td>\n",
       "    </tr>\n",
       "    <tr>\n",
       "      <th>6</th>\n",
       "      <td>AMA8QZ6766A3V</td>\n",
       "      <td>B0062IPIPQ</td>\n",
       "      <td>5.0</td>\n",
       "    </tr>\n",
       "    <tr>\n",
       "      <th>7</th>\n",
       "      <td>A24O066M6CV9XH</td>\n",
       "      <td>B00008NJEP</td>\n",
       "      <td>1.0</td>\n",
       "    </tr>\n",
       "    <tr>\n",
       "      <th>8</th>\n",
       "      <td>A2T90EISKCWYXT</td>\n",
       "      <td>B007JPCL88</td>\n",
       "      <td>5.0</td>\n",
       "    </tr>\n",
       "  </tbody>\n",
       "</table>\n",
       "</div>"
      ],
      "text/plain": [
       "           userId   productId  rating\n",
       "0  A2IW4QOGCKALM6  B000RZQZM0     5.0\n",
       "2   AXF0OXVFU6HD3  B00CRFK24K     5.0\n",
       "6   AMA8QZ6766A3V  B0062IPIPQ     5.0\n",
       "7  A24O066M6CV9XH  B00008NJEP     1.0\n",
       "8  A2T90EISKCWYXT  B007JPCL88     5.0"
      ]
     },
     "execution_count": 21,
     "metadata": {},
     "output_type": "execute_result"
    }
   ],
   "source": [
    "data.head()"
   ]
  },
  {
   "cell_type": "code",
   "execution_count": 22,
   "id": "55113488-cc4d-483a-9873-6e5f3f227785",
   "metadata": {},
   "outputs": [],
   "source": [
    "no_of_rating_per_product=data.groupby('productId')['rating'].count().sort_values(ascending=False)"
   ]
  },
  {
   "cell_type": "code",
   "execution_count": 23,
   "id": "69844dc0-5b7c-4af0-a0b2-f5be1652461b",
   "metadata": {},
   "outputs": [
    {
     "data": {
      "text/plain": [
       "productId\n",
       "B0074BW614    3554\n",
       "B00DR0PDNE    3416\n",
       "B007WTAJTO    2771\n",
       "B0019EHU8G    2561\n",
       "B006GWO5WK    2497\n",
       "Name: rating, dtype: int64"
      ]
     },
     "execution_count": 23,
     "metadata": {},
     "output_type": "execute_result"
    }
   ],
   "source": [
    "no_of_rating_per_product.head()"
   ]
  },
  {
   "cell_type": "code",
   "execution_count": 24,
   "id": "807c0f96-f393-455c-a18c-355ee96ed179",
   "metadata": {},
   "outputs": [
    {
     "data": {
      "image/png": "[encoded data removed]",
      "text/plain": [
       "<Figure size 640x480 with 1 Axes>"
      ]
     },
     "metadata": {},
     "output_type": "display_data"
    }
   ],
   "source": [
    "#top 20 product\n",
    "no_of_rating_per_product.head(20).plot(kind='bar')\n",
    "plt.xlabel('Product ID')\n",
    "plt.ylabel('num of rating')\n",
    "plt.title('top 20 procduct')\n",
    "plt.show()"
   ]
  },
  {
   "cell_type": "code",
   "execution_count": 25,
   "id": "a1f33ba9-7078-4a37-90e1-bfb0340426cb",
   "metadata": {},
   "outputs": [],
   "source": [
    "#average rating product\n",
    "mean_rating_product_count=pd.DataFrame(data.groupby('productId')['rating'].mean())"
   ]
  },
  {
   "cell_type": "code",
   "execution_count": 26,
   "id": "4cc94d5b-02af-4d41-b98e-1a98f19ae3e6",
   "metadata": {},
   "outputs": [
    {
     "data": {
      "text/html": [
       "<div>\n",
       "<style scoped>\n",
       "    .dataframe tbody tr th:only-of-type {\n",
       "        vertical-align: middle;\n",
       "    }\n",
       "\n",
       "    .dataframe tbody tr th {\n",
       "        vertical-align: top;\n",
       "    }\n",
       "\n",
       "    .dataframe thead th {\n",
       "        text-align: right;\n",
       "    }\n",
       "</style>\n",
       "<table border=\"1\" class=\"dataframe\">\n",
       "  <thead>\n",
       "    <tr style=\"text-align: right;\">\n",
       "      <th></th>\n",
       "      <th>rating</th>\n",
       "    </tr>\n",
       "    <tr>\n",
       "      <th>productId</th>\n",
       "      <th></th>\n",
       "    </tr>\n",
       "  </thead>\n",
       "  <tbody>\n",
       "    <tr>\n",
       "      <th>0972683275</th>\n",
       "      <td>4.389744</td>\n",
       "    </tr>\n",
       "    <tr>\n",
       "      <th>1400532655</th>\n",
       "      <td>3.642857</td>\n",
       "    </tr>\n",
       "    <tr>\n",
       "      <th>140053271X</th>\n",
       "      <td>3.985915</td>\n",
       "    </tr>\n",
       "    <tr>\n",
       "      <th>9573212919</th>\n",
       "      <td>3.709091</td>\n",
       "    </tr>\n",
       "    <tr>\n",
       "      <th>B00000DM9W</th>\n",
       "      <td>4.531250</td>\n",
       "    </tr>\n",
       "  </tbody>\n",
       "</table>\n",
       "</div>"
      ],
      "text/plain": [
       "              rating\n",
       "productId           \n",
       "0972683275  4.389744\n",
       "1400532655  3.642857\n",
       "140053271X  3.985915\n",
       "9573212919  3.709091\n",
       "B00000DM9W  4.531250"
      ]
     },
     "execution_count": 26,
     "metadata": {},
     "output_type": "execute_result"
    }
   ],
   "source": [
    "mean_rating_product_count.head()"
   ]
  },
  {
   "cell_type": "code",
   "execution_count": 27,
   "id": "62d6de78-be69-4a28-b249-0b90e325de0a",
   "metadata": {
    "scrolled": true
   },
   "outputs": [
    {
     "data": {
      "image/png": "[encoded data removed]",
      "text/plain": [
       "<Figure size 640x480 with 1 Axes>"
      ]
     },
     "metadata": {},
     "output_type": "display_data"
    }
   ],
   "source": [
    "#plot the rating distribution of average rating product\n",
    "plt.hist(mean_rating_product_count['rating'],bins=100)\n",
    "plt.title('Mean Rating distribution')\n",
    "plt.show()"
   ]
  },
  {
   "cell_type": "code",
   "execution_count": 28,
   "id": "9e2ca95f-15dd-4c69-9fd4-9eef966591ae",
   "metadata": {},
   "outputs": [
    {
     "data": {
      "text/plain": [
       "-0.9019327152578139"
      ]
     },
     "execution_count": 28,
     "metadata": {},
     "output_type": "execute_result"
    }
   ],
   "source": [
    "#check the skewness of the mean rating data\n",
    "mean_rating_product_count['rating'].skew() #highly negatively skewed"
   ]
  },
  {
   "cell_type": "code",
   "execution_count": 29,
   "id": "e128f997-a2e3-42e1-b532-93ac84fa8fbe",
   "metadata": {},
   "outputs": [],
   "source": [
    "mean_rating_product_count['rating_counts'] = pd.DataFrame(data.groupby('productId')['rating'].count())"
   ]
  },
  {
   "cell_type": "code",
   "execution_count": 30,
   "id": "1229f20a-5bb3-4619-a651-40e35929e1fe",
   "metadata": {},
   "outputs": [
    {
     "data": {
      "text/html": [
       "<div>\n",
       "<style scoped>\n",
       "    .dataframe tbody tr th:only-of-type {\n",
       "        vertical-align: middle;\n",
       "    }\n",
       "\n",
       "    .dataframe tbody tr th {\n",
       "        vertical-align: top;\n",
       "    }\n",
       "\n",
       "    .dataframe thead th {\n",
       "        text-align: right;\n",
       "    }\n",
       "</style>\n",
       "<table border=\"1\" class=\"dataframe\">\n",
       "  <thead>\n",
       "    <tr style=\"text-align: right;\">\n",
       "      <th></th>\n",
       "      <th>rating</th>\n",
       "      <th>rating_counts</th>\n",
       "    </tr>\n",
       "    <tr>\n",
       "      <th>productId</th>\n",
       "      <th></th>\n",
       "      <th></th>\n",
       "    </tr>\n",
       "  </thead>\n",
       "  <tbody>\n",
       "    <tr>\n",
       "      <th>0972683275</th>\n",
       "      <td>4.389744</td>\n",
       "      <td>195</td>\n",
       "    </tr>\n",
       "    <tr>\n",
       "      <th>1400532655</th>\n",
       "      <td>3.642857</td>\n",
       "      <td>84</td>\n",
       "    </tr>\n",
       "    <tr>\n",
       "      <th>140053271X</th>\n",
       "      <td>3.985915</td>\n",
       "      <td>71</td>\n",
       "    </tr>\n",
       "    <tr>\n",
       "      <th>9573212919</th>\n",
       "      <td>3.709091</td>\n",
       "      <td>55</td>\n",
       "    </tr>\n",
       "    <tr>\n",
       "      <th>B00000DM9W</th>\n",
       "      <td>4.531250</td>\n",
       "      <td>64</td>\n",
       "    </tr>\n",
       "  </tbody>\n",
       "</table>\n",
       "</div>"
      ],
      "text/plain": [
       "              rating  rating_counts\n",
       "productId                          \n",
       "0972683275  4.389744            195\n",
       "1400532655  3.642857             84\n",
       "140053271X  3.985915             71\n",
       "9573212919  3.709091             55\n",
       "B00000DM9W  4.531250             64"
      ]
     },
     "execution_count": 30,
     "metadata": {},
     "output_type": "execute_result"
    }
   ],
   "source": [
    "mean_rating_product_count.head()"
   ]
  },
  {
   "cell_type": "code",
   "execution_count": 31,
   "id": "038846d0-20b6-45fe-abde-e9fb7384a39a",
   "metadata": {},
   "outputs": [
    {
     "data": {
      "text/html": [
       "<div>\n",
       "<style scoped>\n",
       "    .dataframe tbody tr th:only-of-type {\n",
       "        vertical-align: middle;\n",
       "    }\n",
       "\n",
       "    .dataframe tbody tr th {\n",
       "        vertical-align: top;\n",
       "    }\n",
       "\n",
       "    .dataframe thead th {\n",
       "        text-align: right;\n",
       "    }\n",
       "</style>\n",
       "<table border=\"1\" class=\"dataframe\">\n",
       "  <thead>\n",
       "    <tr style=\"text-align: right;\">\n",
       "      <th></th>\n",
       "      <th>rating</th>\n",
       "      <th>rating_counts</th>\n",
       "    </tr>\n",
       "    <tr>\n",
       "      <th>productId</th>\n",
       "      <th></th>\n",
       "      <th></th>\n",
       "    </tr>\n",
       "  </thead>\n",
       "  <tbody>\n",
       "    <tr>\n",
       "      <th>B0074BW614</th>\n",
       "      <td>4.489871</td>\n",
       "      <td>3554</td>\n",
       "    </tr>\n",
       "  </tbody>\n",
       "</table>\n",
       "</div>"
      ],
      "text/plain": [
       "              rating  rating_counts\n",
       "productId                          \n",
       "B0074BW614  4.489871           3554"
      ]
     },
     "execution_count": 31,
     "metadata": {},
     "output_type": "execute_result"
    }
   ],
   "source": [
    "#highest mean rating product\n",
    "mean_rating_product_count[mean_rating_product_count['rating_counts']==mean_rating_product_count['rating_counts'].max()]"
   ]
  },
  {
   "cell_type": "code",
   "execution_count": 32,
   "id": "014e862c-6607-4f5c-b008-d27972139528",
   "metadata": {},
   "outputs": [
    {
     "name": "stdout",
     "output_type": "stream",
     "text": [
      "min average rating product :  50\n",
      "total min average rating products :  139\n"
     ]
    }
   ],
   "source": [
    "#min mean rating product\n",
    "print('min average rating product : ',mean_rating_product_count['rating_counts'].min())\n",
    "print('total min average rating products : ',mean_rating_product_count[mean_rating_product_count['rating_counts']==mean_rating_product_count['rating_counts'].min()].shape[0])"
   ]
  },
  {
   "cell_type": "code",
   "execution_count": 33,
   "id": "86975a6e-0281-4e18-beb3-cfafdc06c90c",
   "metadata": {},
   "outputs": [
    {
     "data": {
      "image/png": "[encoded data removed]",
      "text/plain": [
       "<Figure size 640x480 with 1 Axes>"
      ]
     },
     "metadata": {},
     "output_type": "display_data"
    }
   ],
   "source": [
    "#plot the rating count of mean_rating_product_count\n",
    "plt.hist(mean_rating_product_count['rating_counts'],bins=100)\n",
    "plt.title('rating count distribution')\n",
    "plt.show()"
   ]
  },
  {
   "cell_type": "code",
   "execution_count": 35,
   "id": "314ca813-ab7a-4ec4-afa3-503ecd8bc9d3",
   "metadata": {},
   "outputs": [
    {
     "name": "stdout",
     "output_type": "stream",
     "text": [
      "Correlation between Rating and Rating Counts is : 0.11389172702486819 \n"
     ]
    }
   ],
   "source": [
    "print('Correlation between Rating and Rating Counts is : {} '.format(mean_rating_product_count['rating'].corr(mean_rating_product_count['rating_counts'])))"
   ]
  },
  {
   "cell_type": "markdown",
   "id": "aa4ee697-0c39-40eb-bccc-2a0875ff6116",
   "metadata": {},
   "source": [
    "Collaberative filtering (Item-Item recommedation)\n",
    "\n",
    "Collaborative filtering is commonly used for recommender systems. These techniques aim to fill in the missing entries of a user-item association matrix. We are going to use collaborative filtering (CF) approach. CF is based on the idea that the best recommendations come from people who have similar tastes. In other words, it uses historical item ratings of like-minded people to predict how someone would rate an item.Collaborative filtering has two sub-categories that are generally called memory based and model-based approaches."
   ]
  },
  {
   "cell_type": "code",
   "execution_count": 61,
   "id": "ff55a5dd-f944-4252-901c-fe9c1067958f",
   "metadata": {},
   "outputs": [
    {
     "ename": "ModuleNotFoundError",
     "evalue": "No module named 'surprise'",
     "output_type": "error",
     "traceback": [
      "\u001b[1;31m---------------------------------------------------------------------------\u001b[0m",
      "\u001b[1;31mModuleNotFoundError\u001b[0m                       Traceback (most recent call last)",
      "Cell \u001b[1;32mIn[61], line 3\u001b[0m\n\u001b[0;32m      1\u001b[0m \u001b[38;5;66;03m# Step 1: Import Required Libraries\u001b[39;00m\n\u001b[0;32m      2\u001b[0m \u001b[38;5;28;01mimport\u001b[39;00m \u001b[38;5;21;01mpandas\u001b[39;00m \u001b[38;5;28;01mas\u001b[39;00m \u001b[38;5;21;01mpd\u001b[39;00m\n\u001b[1;32m----> 3\u001b[0m \u001b[38;5;28;01mfrom\u001b[39;00m \u001b[38;5;21;01msurprise\u001b[39;00m \u001b[38;5;28;01mimport\u001b[39;00m Dataset, Reader\n\u001b[0;32m      4\u001b[0m \u001b[38;5;28;01mfrom\u001b[39;00m \u001b[38;5;21;01msurprise\u001b[39;00m \u001b[38;5;28;01mimport\u001b[39;00m KNNWithMeans\n\u001b[0;32m      5\u001b[0m \u001b[38;5;28;01mfrom\u001b[39;00m \u001b[38;5;21;01msurprise\u001b[39;00m\u001b[38;5;21;01m.\u001b[39;00m\u001b[38;5;21;01mmodel_selection\u001b[39;00m \u001b[38;5;28;01mimport\u001b[39;00m train_test_split\n",
      "\u001b[1;31mModuleNotFoundError\u001b[0m: No module named 'surprise'"
     ]
    }
   ],
   "source": [
    "# Step 1: Import Required Libraries\n",
    "import pandas as pd\n",
    "from surprise import Dataset, Reader\n",
    "from surprise import KNNWithMeans\n",
    "from surprise.model_selection import train_test_split\n",
    "from surprise import accuracy\n",
    "from surprise import dump\n",
    "\n",
    "# Step 2: Load the Dataset\n",
    "# Adjust the path according to where your dataset is located\n",
    "file_path = 'ratings_Electronics.csv'\n",
    "data = pd.read_csv(file_path)\n",
    "\n",
    "# Display the first few rows of the dataset to understand its structure\n",
    "print(data.head())\n",
    "\n",
    "# Step 3: Prepare the Data\n",
    "# Define the Reader object. The rating scale is typically 1-5 for this dataset.\n",
    "reader = Reader(rating_scale=(1, 5))\n",
    "\n",
    "# Load the data into Surprise\n",
    "surprise_data = Dataset.load_from_df(data[['userId', 'productId', 'rating']], reader)\n",
    "\n",
    "# Split the dataset into training and testing sets (80% train, 20% test)\n",
    "trainset, testset = train_test_split(surprise_data, test_size=0.2)\n",
    "\n",
    "# Step 4: Build the Recommendation Model\n",
    "# Use KNN with means for item-item collaborative filtering\n",
    "model = KNNWithMeans(sim_options={'name': 'cosine', 'user_based': False})\n",
    "model.fit(trainset)\n",
    "\n",
    "# Step 5: Make Predictions and Evaluate the Model\n",
    "predictions = model.test(testset)\n",
    "\n",
    "# Calculate and print RMSE\n",
    "rmse = accuracy.rmse(predictions)\n",
    "print(f'RMSE: {rmse}')\n",
    "\n",
    "# Optional: Save the model for later use\n",
    "dump.dump('item_item_model', algo=model)\n"
   ]
  },
  {
   "cell_type": "code",
   "execution_count": 44,
   "id": "bb9be2c0-3bf8-4de2-958f-65122904cbab",
   "metadata": {},
   "outputs": [
    {
     "data": {
      "text/html": [
       "<div>\n",
       "<style scoped>\n",
       "    .dataframe tbody tr th:only-of-type {\n",
       "        vertical-align: middle;\n",
       "    }\n",
       "\n",
       "    .dataframe tbody tr th {\n",
       "        vertical-align: top;\n",
       "    }\n",
       "\n",
       "    .dataframe thead th {\n",
       "        text-align: right;\n",
       "    }\n",
       "</style>\n",
       "<table border=\"1\" class=\"dataframe\">\n",
       "  <thead>\n",
       "    <tr style=\"text-align: right;\">\n",
       "      <th>productId</th>\n",
       "      <th>0972683275</th>\n",
       "      <th>1400532655</th>\n",
       "      <th>140053271X</th>\n",
       "      <th>9573212919</th>\n",
       "      <th>B00000J1V5</th>\n",
       "      <th>B00000JDF5</th>\n",
       "      <th>B00000JI4F</th>\n",
       "      <th>B00000K135</th>\n",
       "      <th>B00001OWYM</th>\n",
       "      <th>B00001P4XA</th>\n",
       "      <th>...</th>\n",
       "      <th>B00I2ZBD1U</th>\n",
       "      <th>B00I94IPTW</th>\n",
       "      <th>B00I9K3ZQ4</th>\n",
       "      <th>B00IF70QCW</th>\n",
       "      <th>B00INNP5VU</th>\n",
       "      <th>B00IO1V33U</th>\n",
       "      <th>B00ISGCAJM</th>\n",
       "      <th>B00IVPU786</th>\n",
       "      <th>B00IZBNQO8</th>\n",
       "      <th>B00J46VVKE</th>\n",
       "    </tr>\n",
       "    <tr>\n",
       "      <th>userId</th>\n",
       "      <th></th>\n",
       "      <th></th>\n",
       "      <th></th>\n",
       "      <th></th>\n",
       "      <th></th>\n",
       "      <th></th>\n",
       "      <th></th>\n",
       "      <th></th>\n",
       "      <th></th>\n",
       "      <th></th>\n",
       "      <th></th>\n",
       "      <th></th>\n",
       "      <th></th>\n",
       "      <th></th>\n",
       "      <th></th>\n",
       "      <th></th>\n",
       "      <th></th>\n",
       "      <th></th>\n",
       "      <th></th>\n",
       "      <th></th>\n",
       "      <th></th>\n",
       "    </tr>\n",
       "  </thead>\n",
       "  <tbody>\n",
       "    <tr>\n",
       "      <th>A0002032ZFQKDVHYKGWR</th>\n",
       "      <td>0.0</td>\n",
       "      <td>0.0</td>\n",
       "      <td>0.0</td>\n",
       "      <td>0.0</td>\n",
       "      <td>0.0</td>\n",
       "      <td>0.0</td>\n",
       "      <td>0.0</td>\n",
       "      <td>0.0</td>\n",
       "      <td>0.0</td>\n",
       "      <td>0.0</td>\n",
       "      <td>...</td>\n",
       "      <td>0.0</td>\n",
       "      <td>0.0</td>\n",
       "      <td>0.0</td>\n",
       "      <td>0.0</td>\n",
       "      <td>0.0</td>\n",
       "      <td>0.0</td>\n",
       "      <td>0.0</td>\n",
       "      <td>0.0</td>\n",
       "      <td>0.0</td>\n",
       "      <td>0.0</td>\n",
       "    </tr>\n",
       "    <tr>\n",
       "      <th>A002145212T9JG4UKUQW4</th>\n",
       "      <td>0.0</td>\n",
       "      <td>0.0</td>\n",
       "      <td>0.0</td>\n",
       "      <td>0.0</td>\n",
       "      <td>0.0</td>\n",
       "      <td>0.0</td>\n",
       "      <td>0.0</td>\n",
       "      <td>0.0</td>\n",
       "      <td>0.0</td>\n",
       "      <td>0.0</td>\n",
       "      <td>...</td>\n",
       "      <td>0.0</td>\n",
       "      <td>0.0</td>\n",
       "      <td>0.0</td>\n",
       "      <td>0.0</td>\n",
       "      <td>0.0</td>\n",
       "      <td>0.0</td>\n",
       "      <td>0.0</td>\n",
       "      <td>0.0</td>\n",
       "      <td>0.0</td>\n",
       "      <td>0.0</td>\n",
       "    </tr>\n",
       "    <tr>\n",
       "      <th>A01410041ZE038XXVXLBB</th>\n",
       "      <td>0.0</td>\n",
       "      <td>0.0</td>\n",
       "      <td>0.0</td>\n",
       "      <td>0.0</td>\n",
       "      <td>0.0</td>\n",
       "      <td>0.0</td>\n",
       "      <td>0.0</td>\n",
       "      <td>0.0</td>\n",
       "      <td>0.0</td>\n",
       "      <td>0.0</td>\n",
       "      <td>...</td>\n",
       "      <td>0.0</td>\n",
       "      <td>0.0</td>\n",
       "      <td>0.0</td>\n",
       "      <td>0.0</td>\n",
       "      <td>0.0</td>\n",
       "      <td>0.0</td>\n",
       "      <td>0.0</td>\n",
       "      <td>0.0</td>\n",
       "      <td>0.0</td>\n",
       "      <td>0.0</td>\n",
       "    </tr>\n",
       "    <tr>\n",
       "      <th>A015639027WKW2102QO0S</th>\n",
       "      <td>0.0</td>\n",
       "      <td>0.0</td>\n",
       "      <td>0.0</td>\n",
       "      <td>0.0</td>\n",
       "      <td>0.0</td>\n",
       "      <td>0.0</td>\n",
       "      <td>0.0</td>\n",
       "      <td>0.0</td>\n",
       "      <td>0.0</td>\n",
       "      <td>0.0</td>\n",
       "      <td>...</td>\n",
       "      <td>0.0</td>\n",
       "      <td>0.0</td>\n",
       "      <td>0.0</td>\n",
       "      <td>0.0</td>\n",
       "      <td>0.0</td>\n",
       "      <td>0.0</td>\n",
       "      <td>0.0</td>\n",
       "      <td>0.0</td>\n",
       "      <td>0.0</td>\n",
       "      <td>0.0</td>\n",
       "    </tr>\n",
       "    <tr>\n",
       "      <th>A01779462MHEEWPXMZKF4</th>\n",
       "      <td>0.0</td>\n",
       "      <td>0.0</td>\n",
       "      <td>0.0</td>\n",
       "      <td>0.0</td>\n",
       "      <td>0.0</td>\n",
       "      <td>0.0</td>\n",
       "      <td>0.0</td>\n",
       "      <td>0.0</td>\n",
       "      <td>0.0</td>\n",
       "      <td>0.0</td>\n",
       "      <td>...</td>\n",
       "      <td>0.0</td>\n",
       "      <td>0.0</td>\n",
       "      <td>0.0</td>\n",
       "      <td>0.0</td>\n",
       "      <td>0.0</td>\n",
       "      <td>0.0</td>\n",
       "      <td>0.0</td>\n",
       "      <td>0.0</td>\n",
       "      <td>0.0</td>\n",
       "      <td>0.0</td>\n",
       "    </tr>\n",
       "  </tbody>\n",
       "</table>\n",
       "<p>5 rows × 4395 columns</p>\n",
       "</div>"
      ],
      "text/plain": [
       "productId              0972683275  1400532655  140053271X  9573212919  \\\n",
       "userId                                                                  \n",
       "A0002032ZFQKDVHYKGWR          0.0         0.0         0.0         0.0   \n",
       "A002145212T9JG4UKUQW4         0.0         0.0         0.0         0.0   \n",
       "A01410041ZE038XXVXLBB         0.0         0.0         0.0         0.0   \n",
       "A015639027WKW2102QO0S         0.0         0.0         0.0         0.0   \n",
       "A01779462MHEEWPXMZKF4         0.0         0.0         0.0         0.0   \n",
       "\n",
       "productId              B00000J1V5  B00000JDF5  B00000JI4F  B00000K135  \\\n",
       "userId                                                                  \n",
       "A0002032ZFQKDVHYKGWR          0.0         0.0         0.0         0.0   \n",
       "A002145212T9JG4UKUQW4         0.0         0.0         0.0         0.0   \n",
       "A01410041ZE038XXVXLBB         0.0         0.0         0.0         0.0   \n",
       "A015639027WKW2102QO0S         0.0         0.0         0.0         0.0   \n",
       "A01779462MHEEWPXMZKF4         0.0         0.0         0.0         0.0   \n",
       "\n",
       "productId              B00001OWYM  B00001P4XA  ...  B00I2ZBD1U  B00I94IPTW  \\\n",
       "userId                                         ...                           \n",
       "A0002032ZFQKDVHYKGWR          0.0         0.0  ...         0.0         0.0   \n",
       "A002145212T9JG4UKUQW4         0.0         0.0  ...         0.0         0.0   \n",
       "A01410041ZE038XXVXLBB         0.0         0.0  ...         0.0         0.0   \n",
       "A015639027WKW2102QO0S         0.0         0.0  ...         0.0         0.0   \n",
       "A01779462MHEEWPXMZKF4         0.0         0.0  ...         0.0         0.0   \n",
       "\n",
       "productId              B00I9K3ZQ4  B00IF70QCW  B00INNP5VU  B00IO1V33U  \\\n",
       "userId                                                                  \n",
       "A0002032ZFQKDVHYKGWR          0.0         0.0         0.0         0.0   \n",
       "A002145212T9JG4UKUQW4         0.0         0.0         0.0         0.0   \n",
       "A01410041ZE038XXVXLBB         0.0         0.0         0.0         0.0   \n",
       "A015639027WKW2102QO0S         0.0         0.0         0.0         0.0   \n",
       "A01779462MHEEWPXMZKF4         0.0         0.0         0.0         0.0   \n",
       "\n",
       "productId              B00ISGCAJM  B00IVPU786  B00IZBNQO8  B00J46VVKE  \n",
       "userId                                                                 \n",
       "A0002032ZFQKDVHYKGWR          0.0         0.0         0.0         0.0  \n",
       "A002145212T9JG4UKUQW4         0.0         0.0         0.0         0.0  \n",
       "A01410041ZE038XXVXLBB         0.0         0.0         0.0         0.0  \n",
       "A015639027WKW2102QO0S         0.0         0.0         0.0         0.0  \n",
       "A01779462MHEEWPXMZKF4         0.0         0.0         0.0         0.0  \n",
       "\n",
       "[5 rows x 4395 columns]"
      ]
     },
     "execution_count": 44,
     "metadata": {},
     "output_type": "execute_result"
    }
   ],
   "source": [
    "data2=data.sample(20000)\n",
    "ratings_matrix = data2.pivot_table(values='rating', index='userId', columns='productId', fill_value=0)\n",
    "ratings_matrix.head()"
   ]
  },
  {
   "cell_type": "code",
   "execution_count": 45,
   "id": "add11ae1-516e-4e53-8754-58200deb68e3",
   "metadata": {},
   "outputs": [
    {
     "data": {
      "text/plain": [
       "(19874, 4395)"
      ]
     },
     "execution_count": 45,
     "metadata": {},
     "output_type": "execute_result"
    }
   ],
   "source": [
    "#check the shape of the rating_matrix\n",
    "ratings_matrix.shape"
   ]
  },
  {
   "cell_type": "code",
   "execution_count": 46,
   "id": "c049e8a1-d4d6-4116-bcb7-9b934be82460",
   "metadata": {},
   "outputs": [
    {
     "data": {
      "text/html": [
       "<div>\n",
       "<style scoped>\n",
       "    .dataframe tbody tr th:only-of-type {\n",
       "        vertical-align: middle;\n",
       "    }\n",
       "\n",
       "    .dataframe tbody tr th {\n",
       "        vertical-align: top;\n",
       "    }\n",
       "\n",
       "    .dataframe thead th {\n",
       "        text-align: right;\n",
       "    }\n",
       "</style>\n",
       "<table border=\"1\" class=\"dataframe\">\n",
       "  <thead>\n",
       "    <tr style=\"text-align: right;\">\n",
       "      <th>userId</th>\n",
       "      <th>A0002032ZFQKDVHYKGWR</th>\n",
       "      <th>A002145212T9JG4UKUQW4</th>\n",
       "      <th>A01410041ZE038XXVXLBB</th>\n",
       "      <th>A015639027WKW2102QO0S</th>\n",
       "      <th>A01779462MHEEWPXMZKF4</th>\n",
       "      <th>A02247533O5ZV8QY08RNV</th>\n",
       "      <th>A027389427NLQ1FLHLQH0</th>\n",
       "      <th>A02813902S5OKR9PK9DVI</th>\n",
       "      <th>A03879251O3S88EZOEOMB</th>\n",
       "      <th>A0452118345JTIBX8LFOX</th>\n",
       "      <th>...</th>\n",
       "      <th>AZYJE40XW6MFG</th>\n",
       "      <th>AZYKIAD6MJ9UU</th>\n",
       "      <th>AZYKSZ37A2F8Q</th>\n",
       "      <th>AZYKYRYRLBYEX</th>\n",
       "      <th>AZZKYDES7PEAP</th>\n",
       "      <th>AZZLK325AH0FV</th>\n",
       "      <th>AZZMKZ6VEHLF9</th>\n",
       "      <th>AZZOQCD4U42P0</th>\n",
       "      <th>AZZQ6G2EQ08O6</th>\n",
       "      <th>AZZUJP2VVO8A5</th>\n",
       "    </tr>\n",
       "    <tr>\n",
       "      <th>productId</th>\n",
       "      <th></th>\n",
       "      <th></th>\n",
       "      <th></th>\n",
       "      <th></th>\n",
       "      <th></th>\n",
       "      <th></th>\n",
       "      <th></th>\n",
       "      <th></th>\n",
       "      <th></th>\n",
       "      <th></th>\n",
       "      <th></th>\n",
       "      <th></th>\n",
       "      <th></th>\n",
       "      <th></th>\n",
       "      <th></th>\n",
       "      <th></th>\n",
       "      <th></th>\n",
       "      <th></th>\n",
       "      <th></th>\n",
       "      <th></th>\n",
       "      <th></th>\n",
       "    </tr>\n",
       "  </thead>\n",
       "  <tbody>\n",
       "    <tr>\n",
       "      <th>0972683275</th>\n",
       "      <td>0.0</td>\n",
       "      <td>0.0</td>\n",
       "      <td>0.0</td>\n",
       "      <td>0.0</td>\n",
       "      <td>0.0</td>\n",
       "      <td>0.0</td>\n",
       "      <td>0.0</td>\n",
       "      <td>0.0</td>\n",
       "      <td>0.0</td>\n",
       "      <td>0.0</td>\n",
       "      <td>...</td>\n",
       "      <td>0.0</td>\n",
       "      <td>0.0</td>\n",
       "      <td>0.0</td>\n",
       "      <td>0.0</td>\n",
       "      <td>0.0</td>\n",
       "      <td>0.0</td>\n",
       "      <td>0.0</td>\n",
       "      <td>0.0</td>\n",
       "      <td>0.0</td>\n",
       "      <td>0.0</td>\n",
       "    </tr>\n",
       "    <tr>\n",
       "      <th>1400532655</th>\n",
       "      <td>0.0</td>\n",
       "      <td>0.0</td>\n",
       "      <td>0.0</td>\n",
       "      <td>0.0</td>\n",
       "      <td>0.0</td>\n",
       "      <td>0.0</td>\n",
       "      <td>0.0</td>\n",
       "      <td>0.0</td>\n",
       "      <td>0.0</td>\n",
       "      <td>0.0</td>\n",
       "      <td>...</td>\n",
       "      <td>0.0</td>\n",
       "      <td>0.0</td>\n",
       "      <td>0.0</td>\n",
       "      <td>0.0</td>\n",
       "      <td>0.0</td>\n",
       "      <td>0.0</td>\n",
       "      <td>0.0</td>\n",
       "      <td>0.0</td>\n",
       "      <td>0.0</td>\n",
       "      <td>0.0</td>\n",
       "    </tr>\n",
       "    <tr>\n",
       "      <th>140053271X</th>\n",
       "      <td>0.0</td>\n",
       "      <td>0.0</td>\n",
       "      <td>0.0</td>\n",
       "      <td>0.0</td>\n",
       "      <td>0.0</td>\n",
       "      <td>0.0</td>\n",
       "      <td>0.0</td>\n",
       "      <td>0.0</td>\n",
       "      <td>0.0</td>\n",
       "      <td>0.0</td>\n",
       "      <td>...</td>\n",
       "      <td>0.0</td>\n",
       "      <td>0.0</td>\n",
       "      <td>0.0</td>\n",
       "      <td>0.0</td>\n",
       "      <td>0.0</td>\n",
       "      <td>0.0</td>\n",
       "      <td>0.0</td>\n",
       "      <td>0.0</td>\n",
       "      <td>0.0</td>\n",
       "      <td>0.0</td>\n",
       "    </tr>\n",
       "    <tr>\n",
       "      <th>9573212919</th>\n",
       "      <td>0.0</td>\n",
       "      <td>0.0</td>\n",
       "      <td>0.0</td>\n",
       "      <td>0.0</td>\n",
       "      <td>0.0</td>\n",
       "      <td>0.0</td>\n",
       "      <td>0.0</td>\n",
       "      <td>0.0</td>\n",
       "      <td>0.0</td>\n",
       "      <td>0.0</td>\n",
       "      <td>...</td>\n",
       "      <td>0.0</td>\n",
       "      <td>0.0</td>\n",
       "      <td>0.0</td>\n",
       "      <td>0.0</td>\n",
       "      <td>0.0</td>\n",
       "      <td>0.0</td>\n",
       "      <td>0.0</td>\n",
       "      <td>0.0</td>\n",
       "      <td>0.0</td>\n",
       "      <td>0.0</td>\n",
       "    </tr>\n",
       "    <tr>\n",
       "      <th>B00000J1V5</th>\n",
       "      <td>0.0</td>\n",
       "      <td>0.0</td>\n",
       "      <td>0.0</td>\n",
       "      <td>0.0</td>\n",
       "      <td>0.0</td>\n",
       "      <td>0.0</td>\n",
       "      <td>0.0</td>\n",
       "      <td>0.0</td>\n",
       "      <td>0.0</td>\n",
       "      <td>0.0</td>\n",
       "      <td>...</td>\n",
       "      <td>0.0</td>\n",
       "      <td>0.0</td>\n",
       "      <td>0.0</td>\n",
       "      <td>0.0</td>\n",
       "      <td>0.0</td>\n",
       "      <td>0.0</td>\n",
       "      <td>0.0</td>\n",
       "      <td>0.0</td>\n",
       "      <td>0.0</td>\n",
       "      <td>0.0</td>\n",
       "    </tr>\n",
       "  </tbody>\n",
       "</table>\n",
       "<p>5 rows × 19874 columns</p>\n",
       "</div>"
      ],
      "text/plain": [
       "userId      A0002032ZFQKDVHYKGWR  A002145212T9JG4UKUQW4  \\\n",
       "productId                                                 \n",
       "0972683275                   0.0                    0.0   \n",
       "1400532655                   0.0                    0.0   \n",
       "140053271X                   0.0                    0.0   \n",
       "9573212919                   0.0                    0.0   \n",
       "B00000J1V5                   0.0                    0.0   \n",
       "\n",
       "userId      A01410041ZE038XXVXLBB  A015639027WKW2102QO0S  \\\n",
       "productId                                                  \n",
       "0972683275                    0.0                    0.0   \n",
       "1400532655                    0.0                    0.0   \n",
       "140053271X                    0.0                    0.0   \n",
       "9573212919                    0.0                    0.0   \n",
       "B00000J1V5                    0.0                    0.0   \n",
       "\n",
       "userId      A01779462MHEEWPXMZKF4  A02247533O5ZV8QY08RNV  \\\n",
       "productId                                                  \n",
       "0972683275                    0.0                    0.0   \n",
       "1400532655                    0.0                    0.0   \n",
       "140053271X                    0.0                    0.0   \n",
       "9573212919                    0.0                    0.0   \n",
       "B00000J1V5                    0.0                    0.0   \n",
       "\n",
       "userId      A027389427NLQ1FLHLQH0  A02813902S5OKR9PK9DVI  \\\n",
       "productId                                                  \n",
       "0972683275                    0.0                    0.0   \n",
       "1400532655                    0.0                    0.0   \n",
       "140053271X                    0.0                    0.0   \n",
       "9573212919                    0.0                    0.0   \n",
       "B00000J1V5                    0.0                    0.0   \n",
       "\n",
       "userId      A03879251O3S88EZOEOMB  A0452118345JTIBX8LFOX  ...  AZYJE40XW6MFG  \\\n",
       "productId                                                 ...                  \n",
       "0972683275                    0.0                    0.0  ...            0.0   \n",
       "1400532655                    0.0                    0.0  ...            0.0   \n",
       "140053271X                    0.0                    0.0  ...            0.0   \n",
       "9573212919                    0.0                    0.0  ...            0.0   \n",
       "B00000J1V5                    0.0                    0.0  ...            0.0   \n",
       "\n",
       "userId      AZYKIAD6MJ9UU  AZYKSZ37A2F8Q  AZYKYRYRLBYEX  AZZKYDES7PEAP  \\\n",
       "productId                                                                \n",
       "0972683275            0.0            0.0            0.0            0.0   \n",
       "1400532655            0.0            0.0            0.0            0.0   \n",
       "140053271X            0.0            0.0            0.0            0.0   \n",
       "9573212919            0.0            0.0            0.0            0.0   \n",
       "B00000J1V5            0.0            0.0            0.0            0.0   \n",
       "\n",
       "userId      AZZLK325AH0FV  AZZMKZ6VEHLF9  AZZOQCD4U42P0  AZZQ6G2EQ08O6  \\\n",
       "productId                                                                \n",
       "0972683275            0.0            0.0            0.0            0.0   \n",
       "1400532655            0.0            0.0            0.0            0.0   \n",
       "140053271X            0.0            0.0            0.0            0.0   \n",
       "9573212919            0.0            0.0            0.0            0.0   \n",
       "B00000J1V5            0.0            0.0            0.0            0.0   \n",
       "\n",
       "userId      AZZUJP2VVO8A5  \n",
       "productId                  \n",
       "0972683275            0.0  \n",
       "1400532655            0.0  \n",
       "140053271X            0.0  \n",
       "9573212919            0.0  \n",
       "B00000J1V5            0.0  \n",
       "\n",
       "[5 rows x 19874 columns]"
      ]
     },
     "execution_count": 46,
     "metadata": {},
     "output_type": "execute_result"
    }
   ],
   "source": [
    "#transpose the metrix to make column (productId) as index and index as column (userId)\n",
    "x_ratings_matrix=ratings_matrix.T\n",
    "x_ratings_matrix.head()"
   ]
  },
  {
   "cell_type": "code",
   "execution_count": 52,
   "id": "626ce67f-730b-4e57-acde-66b012af2e8e",
   "metadata": {},
   "outputs": [
    {
     "data": {
      "text/plain": [
       "(19874, 4395)"
      ]
     },
     "execution_count": 52,
     "metadata": {},
     "output_type": "execute_result"
    }
   ],
   "source": [
    "#check the shape of the rating_matrix\n",
    "ratings_matrix.shape"
   ]
  },
  {
   "cell_type": "code",
   "execution_count": 53,
   "id": "9f40e2c1-9e75-4229-8437-736c2d4438b0",
   "metadata": {},
   "outputs": [
    {
     "data": {
      "text/html": [
       "<div>\n",
       "<style scoped>\n",
       "    .dataframe tbody tr th:only-of-type {\n",
       "        vertical-align: middle;\n",
       "    }\n",
       "\n",
       "    .dataframe tbody tr th {\n",
       "        vertical-align: top;\n",
       "    }\n",
       "\n",
       "    .dataframe thead th {\n",
       "        text-align: right;\n",
       "    }\n",
       "</style>\n",
       "<table border=\"1\" class=\"dataframe\">\n",
       "  <thead>\n",
       "    <tr style=\"text-align: right;\">\n",
       "      <th>userId</th>\n",
       "      <th>A0002032ZFQKDVHYKGWR</th>\n",
       "      <th>A002145212T9JG4UKUQW4</th>\n",
       "      <th>A01410041ZE038XXVXLBB</th>\n",
       "      <th>A015639027WKW2102QO0S</th>\n",
       "      <th>A01779462MHEEWPXMZKF4</th>\n",
       "      <th>A02247533O5ZV8QY08RNV</th>\n",
       "      <th>A027389427NLQ1FLHLQH0</th>\n",
       "      <th>A02813902S5OKR9PK9DVI</th>\n",
       "      <th>A03879251O3S88EZOEOMB</th>\n",
       "      <th>A0452118345JTIBX8LFOX</th>\n",
       "      <th>...</th>\n",
       "      <th>AZYJE40XW6MFG</th>\n",
       "      <th>AZYKIAD6MJ9UU</th>\n",
       "      <th>AZYKSZ37A2F8Q</th>\n",
       "      <th>AZYKYRYRLBYEX</th>\n",
       "      <th>AZZKYDES7PEAP</th>\n",
       "      <th>AZZLK325AH0FV</th>\n",
       "      <th>AZZMKZ6VEHLF9</th>\n",
       "      <th>AZZOQCD4U42P0</th>\n",
       "      <th>AZZQ6G2EQ08O6</th>\n",
       "      <th>AZZUJP2VVO8A5</th>\n",
       "    </tr>\n",
       "    <tr>\n",
       "      <th>productId</th>\n",
       "      <th></th>\n",
       "      <th></th>\n",
       "      <th></th>\n",
       "      <th></th>\n",
       "      <th></th>\n",
       "      <th></th>\n",
       "      <th></th>\n",
       "      <th></th>\n",
       "      <th></th>\n",
       "      <th></th>\n",
       "      <th></th>\n",
       "      <th></th>\n",
       "      <th></th>\n",
       "      <th></th>\n",
       "      <th></th>\n",
       "      <th></th>\n",
       "      <th></th>\n",
       "      <th></th>\n",
       "      <th></th>\n",
       "      <th></th>\n",
       "      <th></th>\n",
       "    </tr>\n",
       "  </thead>\n",
       "  <tbody>\n",
       "    <tr>\n",
       "      <th>0972683275</th>\n",
       "      <td>0.0</td>\n",
       "      <td>0.0</td>\n",
       "      <td>0.0</td>\n",
       "      <td>0.0</td>\n",
       "      <td>0.0</td>\n",
       "      <td>0.0</td>\n",
       "      <td>0.0</td>\n",
       "      <td>0.0</td>\n",
       "      <td>0.0</td>\n",
       "      <td>0.0</td>\n",
       "      <td>...</td>\n",
       "      <td>0.0</td>\n",
       "      <td>0.0</td>\n",
       "      <td>0.0</td>\n",
       "      <td>0.0</td>\n",
       "      <td>0.0</td>\n",
       "      <td>0.0</td>\n",
       "      <td>0.0</td>\n",
       "      <td>0.0</td>\n",
       "      <td>0.0</td>\n",
       "      <td>0.0</td>\n",
       "    </tr>\n",
       "    <tr>\n",
       "      <th>1400532655</th>\n",
       "      <td>0.0</td>\n",
       "      <td>0.0</td>\n",
       "      <td>0.0</td>\n",
       "      <td>0.0</td>\n",
       "      <td>0.0</td>\n",
       "      <td>0.0</td>\n",
       "      <td>0.0</td>\n",
       "      <td>0.0</td>\n",
       "      <td>0.0</td>\n",
       "      <td>0.0</td>\n",
       "      <td>...</td>\n",
       "      <td>0.0</td>\n",
       "      <td>0.0</td>\n",
       "      <td>0.0</td>\n",
       "      <td>0.0</td>\n",
       "      <td>0.0</td>\n",
       "      <td>0.0</td>\n",
       "      <td>0.0</td>\n",
       "      <td>0.0</td>\n",
       "      <td>0.0</td>\n",
       "      <td>0.0</td>\n",
       "    </tr>\n",
       "    <tr>\n",
       "      <th>140053271X</th>\n",
       "      <td>0.0</td>\n",
       "      <td>0.0</td>\n",
       "      <td>0.0</td>\n",
       "      <td>0.0</td>\n",
       "      <td>0.0</td>\n",
       "      <td>0.0</td>\n",
       "      <td>0.0</td>\n",
       "      <td>0.0</td>\n",
       "      <td>0.0</td>\n",
       "      <td>0.0</td>\n",
       "      <td>...</td>\n",
       "      <td>0.0</td>\n",
       "      <td>0.0</td>\n",
       "      <td>0.0</td>\n",
       "      <td>0.0</td>\n",
       "      <td>0.0</td>\n",
       "      <td>0.0</td>\n",
       "      <td>0.0</td>\n",
       "      <td>0.0</td>\n",
       "      <td>0.0</td>\n",
       "      <td>0.0</td>\n",
       "    </tr>\n",
       "    <tr>\n",
       "      <th>9573212919</th>\n",
       "      <td>0.0</td>\n",
       "      <td>0.0</td>\n",
       "      <td>0.0</td>\n",
       "      <td>0.0</td>\n",
       "      <td>0.0</td>\n",
       "      <td>0.0</td>\n",
       "      <td>0.0</td>\n",
       "      <td>0.0</td>\n",
       "      <td>0.0</td>\n",
       "      <td>0.0</td>\n",
       "      <td>...</td>\n",
       "      <td>0.0</td>\n",
       "      <td>0.0</td>\n",
       "      <td>0.0</td>\n",
       "      <td>0.0</td>\n",
       "      <td>0.0</td>\n",
       "      <td>0.0</td>\n",
       "      <td>0.0</td>\n",
       "      <td>0.0</td>\n",
       "      <td>0.0</td>\n",
       "      <td>0.0</td>\n",
       "    </tr>\n",
       "    <tr>\n",
       "      <th>B00000J1V5</th>\n",
       "      <td>0.0</td>\n",
       "      <td>0.0</td>\n",
       "      <td>0.0</td>\n",
       "      <td>0.0</td>\n",
       "      <td>0.0</td>\n",
       "      <td>0.0</td>\n",
       "      <td>0.0</td>\n",
       "      <td>0.0</td>\n",
       "      <td>0.0</td>\n",
       "      <td>0.0</td>\n",
       "      <td>...</td>\n",
       "      <td>0.0</td>\n",
       "      <td>0.0</td>\n",
       "      <td>0.0</td>\n",
       "      <td>0.0</td>\n",
       "      <td>0.0</td>\n",
       "      <td>0.0</td>\n",
       "      <td>0.0</td>\n",
       "      <td>0.0</td>\n",
       "      <td>0.0</td>\n",
       "      <td>0.0</td>\n",
       "    </tr>\n",
       "  </tbody>\n",
       "</table>\n",
       "<p>5 rows × 19874 columns</p>\n",
       "</div>"
      ],
      "text/plain": [
       "userId      A0002032ZFQKDVHYKGWR  A002145212T9JG4UKUQW4  \\\n",
       "productId                                                 \n",
       "0972683275                   0.0                    0.0   \n",
       "1400532655                   0.0                    0.0   \n",
       "140053271X                   0.0                    0.0   \n",
       "9573212919                   0.0                    0.0   \n",
       "B00000J1V5                   0.0                    0.0   \n",
       "\n",
       "userId      A01410041ZE038XXVXLBB  A015639027WKW2102QO0S  \\\n",
       "productId                                                  \n",
       "0972683275                    0.0                    0.0   \n",
       "1400532655                    0.0                    0.0   \n",
       "140053271X                    0.0                    0.0   \n",
       "9573212919                    0.0                    0.0   \n",
       "B00000J1V5                    0.0                    0.0   \n",
       "\n",
       "userId      A01779462MHEEWPXMZKF4  A02247533O5ZV8QY08RNV  \\\n",
       "productId                                                  \n",
       "0972683275                    0.0                    0.0   \n",
       "1400532655                    0.0                    0.0   \n",
       "140053271X                    0.0                    0.0   \n",
       "9573212919                    0.0                    0.0   \n",
       "B00000J1V5                    0.0                    0.0   \n",
       "\n",
       "userId      A027389427NLQ1FLHLQH0  A02813902S5OKR9PK9DVI  \\\n",
       "productId                                                  \n",
       "0972683275                    0.0                    0.0   \n",
       "1400532655                    0.0                    0.0   \n",
       "140053271X                    0.0                    0.0   \n",
       "9573212919                    0.0                    0.0   \n",
       "B00000J1V5                    0.0                    0.0   \n",
       "\n",
       "userId      A03879251O3S88EZOEOMB  A0452118345JTIBX8LFOX  ...  AZYJE40XW6MFG  \\\n",
       "productId                                                 ...                  \n",
       "0972683275                    0.0                    0.0  ...            0.0   \n",
       "1400532655                    0.0                    0.0  ...            0.0   \n",
       "140053271X                    0.0                    0.0  ...            0.0   \n",
       "9573212919                    0.0                    0.0  ...            0.0   \n",
       "B00000J1V5                    0.0                    0.0  ...            0.0   \n",
       "\n",
       "userId      AZYKIAD6MJ9UU  AZYKSZ37A2F8Q  AZYKYRYRLBYEX  AZZKYDES7PEAP  \\\n",
       "productId                                                                \n",
       "0972683275            0.0            0.0            0.0            0.0   \n",
       "1400532655            0.0            0.0            0.0            0.0   \n",
       "140053271X            0.0            0.0            0.0            0.0   \n",
       "9573212919            0.0            0.0            0.0            0.0   \n",
       "B00000J1V5            0.0            0.0            0.0            0.0   \n",
       "\n",
       "userId      AZZLK325AH0FV  AZZMKZ6VEHLF9  AZZOQCD4U42P0  AZZQ6G2EQ08O6  \\\n",
       "productId                                                                \n",
       "0972683275            0.0            0.0            0.0            0.0   \n",
       "1400532655            0.0            0.0            0.0            0.0   \n",
       "140053271X            0.0            0.0            0.0            0.0   \n",
       "9573212919            0.0            0.0            0.0            0.0   \n",
       "B00000J1V5            0.0            0.0            0.0            0.0   \n",
       "\n",
       "userId      AZZUJP2VVO8A5  \n",
       "productId                  \n",
       "0972683275            0.0  \n",
       "1400532655            0.0  \n",
       "140053271X            0.0  \n",
       "9573212919            0.0  \n",
       "B00000J1V5            0.0  \n",
       "\n",
       "[5 rows x 19874 columns]"
      ]
     },
     "execution_count": 53,
     "metadata": {},
     "output_type": "execute_result"
    }
   ],
   "source": [
    "#transpose the metrix to make column (productId) as index and index as column (userId)\n",
    "x_ratings_matrix=ratings_matrix.T\n",
    "x_ratings_matrix.head()"
   ]
  },
  {
   "cell_type": "code",
   "execution_count": 54,
   "id": "0bfd6a30-b91f-4d9c-9499-f19f29a56f4c",
   "metadata": {},
   "outputs": [
    {
     "data": {
      "text/plain": [
       "(4395, 10)"
      ]
     },
     "execution_count": 54,
     "metadata": {},
     "output_type": "execute_result"
    }
   ],
   "source": [
    "#Decomposition of the matrix using Singular Value Decomposition technique\n",
    "from sklearn.decomposition import TruncatedSVD\n",
    "SVD = TruncatedSVD(n_components=10)\n",
    "decomposed_matrix = SVD.fit_transform(x_ratings_matrix)\n",
    "decomposed_matrix.shape"
   ]
  },
  {
   "cell_type": "code",
   "execution_count": 55,
   "id": "4a3e9955-e2fe-4e1d-a3e4-272e5d75a6f6",
   "metadata": {},
   "outputs": [
    {
     "data": {
      "text/plain": [
       "(4395, 4395)"
      ]
     },
     "execution_count": 55,
     "metadata": {},
     "output_type": "execute_result"
    }
   ],
   "source": [
    "#Correlation Matrix\n",
    "correlation_matrix = np.corrcoef(decomposed_matrix)\n",
    "correlation_matrix.shape"
   ]
  },
  {
   "cell_type": "code",
   "execution_count": 56,
   "id": "a74823a1-985b-4294-af3b-67bf8b0fab52",
   "metadata": {},
   "outputs": [
    {
     "data": {
      "text/plain": [
       "'B00001P4XH'"
      ]
     },
     "execution_count": 56,
     "metadata": {},
     "output_type": "execute_result"
    }
   ],
   "source": [
    "x_ratings_matrix.index[10]"
   ]
  },
  {
   "cell_type": "code",
   "execution_count": 57,
   "id": "5fd5580b-aa38-4295-a646-0f08f910ae28",
   "metadata": {},
   "outputs": [
    {
     "name": "stdout",
     "output_type": "stream",
     "text": [
      "11\n"
     ]
    }
   ],
   "source": [
    "i=\"B00001P4ZH\"\n",
    "product_names=list(x_ratings_matrix.index)\n",
    "product_id=product_names.index(i)\n",
    "print(product_id)"
   ]
  },
  {
   "cell_type": "code",
   "execution_count": 58,
   "id": "ae4752ef-3a40-4c83-9807-a0d7ab169843",
   "metadata": {},
   "outputs": [
    {
     "data": {
      "text/plain": [
       "(4395,)"
      ]
     },
     "execution_count": 58,
     "metadata": {},
     "output_type": "execute_result"
    }
   ],
   "source": [
    "correlation_product_ID = correlation_matrix[product_id]\n",
    "correlation_product_ID.shape"
   ]
  },
  {
   "cell_type": "code",
   "execution_count": 59,
   "id": "bb4e2321-b56e-4821-be5c-5b829b9e4a73",
   "metadata": {},
   "outputs": [
    {
     "data": {
      "text/plain": [
       "(275, 4395)"
      ]
     },
     "execution_count": 59,
     "metadata": {},
     "output_type": "execute_result"
    }
   ],
   "source": [
    "correlation_matrix[correlation_product_ID>0.75].shape"
   ]
  },
  {
   "cell_type": "code",
   "execution_count": 60,
   "id": "96f315a9-d309-434d-b81b-5dea7d502dbb",
   "metadata": {},
   "outputs": [
    {
     "data": {
      "text/plain": [
       "['B00001OWYM',\n",
       " 'B00001P4ZH',\n",
       " 'B000067SOH',\n",
       " 'B00008NJEP',\n",
       " 'B00008OE5G',\n",
       " 'B00023JJV6',\n",
       " 'B0002BEQJ8',\n",
       " 'B0002DG9XW',\n",
       " 'B000652M6Y',\n",
       " 'B00070QI1I',\n",
       " 'B00077AA5Q',\n",
       " 'B0007U9SOC',\n",
       " 'B0007XHLXO',\n",
       " 'B0009K9FZW',\n",
       " 'B000CSOXTO',\n",
       " 'B000E1FYQA',\n",
       " 'B000EPHR0C',\n",
       " 'B000FDTNZK',\n",
       " 'B000GU88CQ',\n",
       " 'B000H6CBA4']"
      ]
     },
     "execution_count": 60,
     "metadata": {},
     "output_type": "execute_result"
    }
   ],
   "source": [
    "#Recommending top 20 highly correlated products in sequence\n",
    "recommend = list(x_ratings_matrix.index[correlation_product_ID > 0.75])\n",
    "recommend[:20]"
   ]
  },
  {
   "cell_type": "code",
   "execution_count": null,
   "id": "b8a635cc-6b09-401e-a03e-f46b2e1c3a2e",
   "metadata": {},
   "outputs": [],
   "source": []
  }
 ],
 "metadata": {
  "kernelspec": {
   "display_name": "Python 3 (ipykernel)",
   "language": "python",
   "name": "python3"
  },
  "language_info": {
   "codemirror_mode": {
    "name": "ipython",
    "version": 3
   },
   "file_extension": ".py",
   "mimetype": "text/x-python",
   "name": "python",
   "nbconvert_exporter": "python",
   "pygments_lexer": "ipython3",
   "version": "3.12.4"
  }
 },
 "nbformat": 4,
 "nbformat_minor": 5
}
